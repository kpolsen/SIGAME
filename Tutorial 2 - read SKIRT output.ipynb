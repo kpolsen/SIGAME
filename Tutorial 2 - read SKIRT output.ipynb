{
 "cells": [
  {
   "cell_type": "markdown",
   "metadata": {},
   "source": [
    "# Tutorial 2 - read SKIRT output\n",
    "The first step of SIGAME is to run SKIRT in order to derive the interstellar radiation field spectrum locally within each galaxy. Here we read the output generated with the radiative transfer code SKIRT for the set of 3 test galaxies supplied with this version of SIGAME. This will generate one `cell_data` file per galaxy in `data/cell_data`. \n",
    "\n",
    "**In case you could not run SKIRT** on the test galaxies provided, you can skip this tutorial and go the the next since the `cell_data` files are included in this release."
   ]
  },
  {
   "cell_type": "markdown",
   "metadata": {},
   "source": [
    "### Before importing SIGAME!! \n",
    "... it's important that we edit the parameter.txt file so sigame knows what to do. in parameter.txt, make sure that the bottom part reads:\n",
    "\n",
    "BACKEND TASKS<br>\n",
    "-1 step1_setup_SKIRT<br>\n",
    "+1 step1_read_SKIRT<br>\n",
    "-1 step2_grid_gas<br>\n",
    "-1 step3_setup_Cloudy_grid<br>\n",
    "-1 step3_run_Cloudy<br>\n",
    "-1 step3_combine_Cloudy<br>\n",
    "-1 step3_complete_Cloudy<br>\n",
    "-1 step3_read_Cloudy_grid<br>\n",
    "-1 step3_make_Cloudy_table<br>\n",
    "-1 step4_interpolate<br>"
   ]
  },
  {
   "cell_type": "markdown",
   "metadata": {},
   "source": [
    "### The +1 at step1_read_SKIRT means that SIGAME will perform this step. Now we can import sigame:"
   ]
  },
  {
   "cell_type": "code",
   "execution_count": 1,
   "metadata": {},
   "outputs": [
    {
     "name": "stdout",
     "output_type": "stream",
     "text": [
      "\n",
      "     =======================================================  \n",
      "     \n",
      "     .oOOOo.  ooOoOOo  .oOOOo.     Oo    Oo      oO o.OOoOoo  \n",
      "     o     o     O    .O     o    o  O   O O    o o  O        \n",
      "     O.          o    o          O    o  o  o  O  O  o        \n",
      "      `OOoo.     O    O         oOooOoOo O   Oo   O  ooOO     \n",
      "           `O    o    O   .oOOo o      O O        o  O        \n",
      "            o    O    o.      O O      o o        O  o        \n",
      "     O.    .O    O     O.    oO o      O o        O  O        \n",
      "      `oooO'  ooOOoOo   `OooO'  O.     O O        o ooOooOoO  \n",
      "     \n",
      "     =======================================================  \n",
      "      SImulator of GAlaxy Millimeter/submillimeter Emission\n",
      "---- A code to simulate the far-IR emission lines of the ISM  ----\n",
      "------------- in galaxies from hydrodynamical codes --------------\n",
      "----- for the interpretation and prediction of observations. -----\n",
      "- Contact: Karen Olsen, karenolsen (at) email.arizona.edu (2021) -\n",
      "\n",
      "\n",
      "Reading parameter file: [/home/karen/projects/SIGAME/SIGAME/parameters.txt] ... \n",
      "will look for skirt input/output data in /home/karen/projects/SIGAME/SIGAME/skirt/\n",
      "\n",
      "/home/karen/projects/SIGAME/SIGAME/sigame/temp/\n",
      "\n",
      "will look for code in /home/karen/projects/SIGAME/SIGAME/sigame/\n",
      "will look for sim data in /home/karen/projects/SIGAME/SIGAME/data/\n",
      "will look for cloudy data in /home/karen/projects/SIGAME/SIGAME//cloudy/\n",
      "\n",
      "                 Parameters chosen                \n",
      "+--------------------+----------+---------------+--------------------------------------------------+\n",
      "|     Parameter      |  Value   |  Name in code |                   Explanation                    |\n",
      "+--------------------+----------+---------------+--------------------------------------------------+\n",
      "|   Repr. redshift   |         0|      zred     |         Redshift of simulation snapshot          |\n",
      "|     # galaxies     |         3|      nGal     |      Number of galaxies in redshift sample       |\n",
      "|      Sim name      |     simba|    sim_name   |                 Simulation name                  |\n",
      "|      Sim run       |    _25Mpc|    sim_run    |                  Simulation run                  |\n",
      "|      Grid ext      |          |    grid_ext   |              Cloudy grid extension               |\n",
      "|     Table ext      | _arepoPDF|   table_ext   |          Cloudy look-up table extension          |\n",
      "+--------------------+----------+---------------+--------------------------------------------------+\n",
      "\n",
      "This is what sigame.run() is set up to do (change in parameter file):\n",
      "- Generate input scripts for SKIRT radiative transfer\n",
      "\n",
      "--------------------------------------------------------------\n",
      "\n",
      "Ready to continue!\n",
      "\n"
     ]
    }
   ],
   "source": [
    "%matplotlib inline\n",
    "%load_ext autoreload\n",
    "%autoreload 2\n",
    "import sigame as si"
   ]
  },
  {
   "cell_type": "markdown",
   "metadata": {},
   "source": [
    "### The output from running `si.run()` (which you can try to run here if you think you have enough memory, just remember to switch the overwrite parameter in parameters.txt to \"yes\") should look something like this:\n",
    "\n",
    "```\n",
    "Filename in global_results._get_file(): \n",
    "/home/u17/karenolsen/SIGAME/data/results/z0_3gals_simba_25Mpc_arepoPDF\n",
    "\n",
    "** This is the main controller running SIGAME for the given galaxy sample **\n",
    "(Number of galaxies in selection: 3 )\n",
    "OBS: Overwrite is ON, will overwrite any existing files\n",
    "\n",
    "--- Step 1: Read output from SKIRT ---\n",
    "\n",
    "Now for galaxy # 0\n",
    "* Read SKIRT output for galaxy # 0\n",
    "Found no cell data dataframe or \"overwrite\" is on, starting a new one for galaxy # 0\n",
    "Creating dataframe with SKIRT cell data output\n",
    "FIR luminosity: 2.15e+10 Lsun\n",
    "\n",
    "Done w galaxy # 0\n",
    "\n",
    "Now for galaxy # 1\n",
    "* Read SKIRT output for galaxy # 1\n",
    "Found no cell data dataframe or \"overwrite\" is on, starting a new one for galaxy # 1\n",
    "Creating dataframe with SKIRT cell data output\n",
    "FIR luminosity: 3.27e+10 Lsun\n",
    "\n",
    "Done w galaxy # 1\n",
    "\n",
    "Now for galaxy # 2\n",
    "* Read SKIRT output for galaxy # 2\n",
    "Found no cell data dataframe or \"overwrite\" is on, starting a new one for galaxy # 2\n",
    "Creating dataframe with SKIRT cell data output\n",
    "FIR luminosity: 6.93e+09 Lsun\n",
    "\n",
    "Done w galaxy # 2\n",
    "\n",
    "\n",
    "```\n",
    "\n",
    "... after that, three \".cell_data\" files should now have been created in the data/cell_data/ folder. "
   ]
  },
  {
   "cell_type": "markdown",
   "metadata": {},
   "source": [
    "### &#9654; Congratulations ! You have successfully stored the necessary output from SKIRT &#9664;"
   ]
  },
  {
   "cell_type": "code",
   "execution_count": null,
   "metadata": {},
   "outputs": [],
   "source": []
  }
 ],
 "metadata": {
  "kernelspec": {
   "display_name": "Python 3",
   "language": "python",
   "name": "python3"
  },
  "language_info": {
   "codemirror_mode": {
    "name": "ipython",
    "version": 3
   },
   "file_extension": ".py",
   "mimetype": "text/x-python",
   "name": "python",
   "nbconvert_exporter": "python",
   "pygments_lexer": "ipython3",
   "version": "3.8.5"
  }
 },
 "nbformat": 4,
 "nbformat_minor": 4
}
