{
 "cells": [
  {
   "cell_type": "markdown",
   "metadata": {},
   "source": [
    "# Tutorial 1 - set up SKIRT for radiative transfer calculation\n",
    "The first step of SIGAME is to run SKIRT in order to derive the interstellar radiation field spectrum locally within each galaxy. Here we generate the input scripts to be executed with the radiative transfer code SKIRT for the set of 3 test galaxies supplied with this version of SIGAME."
   ]
  },
  {
   "cell_type": "markdown",
   "metadata": {},
   "source": [
    "### Before importing SIGAME!! \n",
    "... it's important that we edit the parameter.txt file so sigame knows what to do. in parameter.txt, make sure that the bottom part reads:\n",
    "\n",
    "BACKEND TASKS<br>\n",
    "+1 step1_setup_SKIRT<br>\n",
    "-1 step1_read_SKIRT<br>\n",
    "-1 step2_grid_gas<br>\n",
    "-1 step3_setup_Cloudy_grid<br>\n",
    "-1 step3_run_Cloudy<br>\n",
    "-1 step3_combine_Cloudy<br>\n",
    "-1 step3_complete_Cloudy<br>\n",
    "-1 step3_read_Cloudy_grid<br>\n",
    "-1 step3_make_Cloudy_table<br>\n",
    "-1 step4_interpolate<br>"
   ]
  },
  {
   "cell_type": "markdown",
   "metadata": {},
   "source": [
    "### The +1 at step1_setup_SKIRT means that SIGAME will perform this step. Now we can import sigame:"
   ]
  },
  {
   "cell_type": "code",
   "execution_count": 1,
   "metadata": {},
   "outputs": [
    {
     "name": "stdout",
     "output_type": "stream",
     "text": [
      "\n",
      "     =======================================================  \n",
      "     \n",
      "     .oOOOo.  ooOoOOo  .oOOOo.     Oo    Oo      oO o.OOoOoo  \n",
      "     o     o     O    .O     o    o  O   O O    o o  O        \n",
      "     O.          o    o          O    o  o  o  O  O  o        \n",
      "      `OOoo.     O    O         oOooOoOo O   Oo   O  ooOO     \n",
      "           `O    o    O   .oOOo o      O O        o  O        \n",
      "            o    O    o.      O O      o o        O  o        \n",
      "     O.    .O    O     O.    oO o      O o        O  O        \n",
      "      `oooO'  ooOOoOo   `OooO'  O.     O O        o ooOooOoO  \n",
      "     \n",
      "     =======================================================  \n",
      "      SImulator of GAlaxy Millimeter/submillimeter Emission\n",
      "---- A code to simulate the far-IR emission lines of the ISM  ----\n",
      "------------- in galaxies from hydrodynamical codes --------------\n",
      "----- for the interpretation and prediction of observations. -----\n",
      "- Contact: Karen Olsen, karenolsen (at) email.arizona.edu (2021) -\n",
      "\n",
      "\n",
      "Reading parameter file: [/home/karen/projects/SIGAME/SIGAME/parameters.txt] ... \n",
      "will look for skirt input/output data in /home/karen/projects/SIGAME/SIGAME/skirt/\n",
      "\n",
      "/home/karen/projects/SIGAME/SIGAME/sigame/temp/\n",
      "\n",
      "will look for code in /home/karen/projects/SIGAME/SIGAME/sigame/\n",
      "will look for sim data in /home/karen/projects/SIGAME/SIGAME/data/\n",
      "will look for cloudy data in /home/karen/projects/SIGAME/SIGAME//cloudy/\n",
      "\n",
      "                 Parameters chosen                \n",
      "+--------------------+----------+---------------+--------------------------------------------------+\n",
      "|     Parameter      |  Value   |  Name in code |                   Explanation                    |\n",
      "+--------------------+----------+---------------+--------------------------------------------------+\n",
      "|   Repr. redshift   |         0|      zred     |         Redshift of simulation snapshot          |\n",
      "|     # galaxies     |         3|      nGal     |      Number of galaxies in redshift sample       |\n",
      "|      Sim name      |     simba|    sim_name   |                 Simulation name                  |\n",
      "|      Sim run       |    _25Mpc|    sim_run    |                  Simulation run                  |\n",
      "|      Grid ext      |          |    grid_ext   |              Cloudy grid extension               |\n",
      "|     Table ext      | _arepoPDF|   table_ext   |          Cloudy look-up table extension          |\n",
      "+--------------------+----------+---------------+--------------------------------------------------+\n",
      "\n",
      "This is what sigame.run() is set up to do (change in parameter file):\n",
      "- Generate input scripts for SKIRT radiative transfer\n",
      "\n",
      "--------------------------------------------------------------\n",
      "\n",
      "Ready to continue!\n",
      "\n"
     ]
    }
   ],
   "source": [
    "%matplotlib inline\n",
    "%load_ext autoreload\n",
    "%autoreload 2\n",
    "import sigame as si"
   ]
  },
  {
   "cell_type": "code",
   "execution_count": 9,
   "metadata": {},
   "outputs": [
    {
     "name": "stdout",
     "output_type": "stream",
     "text": [
      "Filename in global_results._get_file(): \n",
      "/home/karen/projects/SIGAME/SIGAME/data/results/z0_3gals_simba_25Mpc_arepoPDF\n",
      "\n",
      "** This is the main controller running SIGAME for the given galaxy sample **\n",
      "(Number of galaxies in selection: 3 )\n",
      "OBS: Overwrite is OFF, will not overwrite any existing files\n",
      "\n",
      "--- Step 1: Create input scripts for the attenuated interstellar radiation field (ISRF) with SKIRT ---\n",
      "\n",
      "- Setting up SKIRT for galaxy # 0 \n",
      "(using galaxy radius for image size: 101.93 kpc)\n",
      "\n",
      "- Setting up SKIRT for galaxy # 1 \n",
      "(using galaxy radius for image size: 47.11 kpc)\n",
      "\n",
      "- Setting up SKIRT for galaxy # 2 \n",
      "(using galaxy radius for image size: 169.82 kpc)\n",
      "Now ready to run skirt: go to /home/karen/projects/SIGAME/SIGAME/skirt/ and run SKIRT\n",
      "\n",
      "--------------------------------------------------------------\n",
      "\n"
     ]
    }
   ],
   "source": [
    "si.run()"
   ]
  },
  {
   "cell_type": "markdown",
   "metadata": {},
   "source": [
    "A bunch of input \".ski\" files should now have been created in the skirt/ folder together with gas and star input files for SKIRT. \n",
    "### &#9654; Congratulations ! You have successfully created the input files for SKIRT &#9664;"
   ]
  },
  {
   "cell_type": "markdown",
   "metadata": {},
   "source": [
    "## Running SKIRT\n",
    "\n",
    "To install SKIRT v9 go to : https://skirt.ugent.be/version9/_version9.html\n",
    "\n",
    "If you are on an HPC cluster with PBS system, you can run SKIRT in parallel with:\n",
    "\n",
    "`qsub -J 0-N_gal run_skirt.sh`\n",
    "\n",
    "by editing `run_skirt.sh` a bit to fit your system."
   ]
  },
  {
   "cell_type": "code",
   "execution_count": null,
   "metadata": {},
   "outputs": [],
   "source": []
  }
 ],
 "metadata": {
  "kernelspec": {
   "display_name": "Python 3",
   "language": "python",
   "name": "python3"
  },
  "language_info": {
   "codemirror_mode": {
    "name": "ipython",
    "version": 3
   },
   "file_extension": ".py",
   "mimetype": "text/x-python",
   "name": "python",
   "nbconvert_exporter": "python",
   "pygments_lexer": "ipython3",
   "version": "3.8.5"
  }
 },
 "nbformat": 4,
 "nbformat_minor": 4
}
