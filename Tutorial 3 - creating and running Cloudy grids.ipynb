{
 "cells": [
  {
   "cell_type": "markdown",
   "metadata": {},
   "source": [
    "# Tutorial 3 - creating and running Cloudy grids\n",
    "The 3rd step of SIGAME is to run the Cloudy photo-ionization code for a grid with parameters that span the range found in your simulated galaxies.  \n",
    "\n",
    "**This step requires that you install Cloudy and depending on how many grid cells you want to run, i.e. the resolution of the final Cloudy look-up table, you may need access to HPC facilities**. Because of all the complexities in writing and executing Cloudy, this tutorial does not go into too much detail, but rathre gives an overview of how you *would* execute SIGAME. A pre-calculated Cloudy look-up table for the z=0 case has been included with this release, so you can also skip to the next tutorial."
   ]
  },
  {
   "cell_type": "code",
   "execution_count": 1,
   "metadata": {},
   "outputs": [],
   "source": [
    "%matplotlib inline\n",
    "%load_ext autoreload\n",
    "%autoreload 2"
   ]
  },
  {
   "cell_type": "markdown",
   "metadata": {},
   "source": [
    "### Before importing SIGAME!! \n",
    "... it's important that we edit the parameter.txt file so sigame knows what to do. in parameter.txt, make sure that the bottom part reads:\n",
    "\n",
    "BACKEND TASKS<br>\n",
    "-1 step1_setup_SKIRT<br>\n",
    "-1 step1_read_SKIRT<br>\n",
    "-1 step2_grid_gas<br>\n",
    "+1 step3_setup_Cloudy_grid<br>\n",
    "-1 step3_run_Cloudy<br>\n",
    "-1 step3_combine_Cloudy<br>\n",
    "-1 step3_complete_Cloudy<br>\n",
    "-1 step3_read_Cloudy_grid<br>\n",
    "-1 step3_make_Cloudy_table<br>\n",
    "-1 step4_interpolate<br>\n",
    "-1 step4_derived_results<br>\n",
    "\n",
    "### This will create the input Cloudy files as well as PBS job script files.\n",
    "\n",
    "**In addition** you should look at the following lines in `sigame/param.py`:\n",
    "```\n",
    "                                grid_Z = np.arange(-2,0.51,0.5),\\\n",
    "                                grid_nH = np.arange(-4,7.1,1),\\\n",
    "                                grid_FUV = np.arange(-7,4.1,2),\\\n",
    "                                grid_DTM = np.arange(-2,-0.19,0.5),\\\n",
    "```\n",
    "These lines set the grid points that Cloudy will explore with 1-zone models, and the total number of 1-zone models will depend on the resolution in your grid. The above grid parameters will generate 1584 1-zone Cloudy models that must be executed to create the Cloudy look-up table."
   ]
  },
  {
   "cell_type": "code",
   "execution_count": 5,
   "metadata": {
    "scrolled": false
   },
   "outputs": [
    {
     "name": "stdout",
     "output_type": "stream",
     "text": [
      "Filename in global_results._get_file(): \n",
      "/home/karen/projects/SIGAME/SIGAME/data/results/z0_3gals_simba_25Mpc_arepoPDF\n",
      "\n",
      "** This is the main controller running SIGAME for the given galaxy sample **\n",
      "(Number of galaxies in selection: 3 )\n",
      "OBS: Overwrite is OFF, will not overwrite any existing files\n",
      "\n",
      "--- Step 3: Setup Cloudy grid ---\n",
      "Directory for Cloudy input and output files:\n",
      "/home/karen/projects/SIGAME/SIGAME//cloudy/\n",
      "nH : [-4. -3. -2. -1.  0.  1.  2.  3.  4.  5.  6.  7.]\n",
      "FUV : [-7. -5. -3. -1.  1.  3.]\n",
      "CRs :  [-22.69897 -20.69897 -18.69897 -16.69897 -14.69897 -12.69897]\n",
      "Zs :  [-2.  -1.5 -1.  -0.5  0.   0.5]\n"
     ]
    },
    {
     "ename": "FileNotFoundError",
     "evalue": "[Errno 2] No such file or directory: '/home/karen/projects/SIGAME/SIGAME//cloudy/table_0.cont2'",
     "output_type": "error",
     "traceback": [
      "\u001b[0;31m---------------------------------------------------------------------------\u001b[0m",
      "\u001b[0;31mFileNotFoundError\u001b[0m                         Traceback (most recent call last)",
      "\u001b[0;32m<ipython-input-5-15ca52fe6a0c>\u001b[0m in \u001b[0;36m<module>\u001b[0;34m\u001b[0m\n\u001b[1;32m      1\u001b[0m \u001b[0;31m# Try running SIGAME by un-commenting the following lines\u001b[0m\u001b[0;34m\u001b[0m\u001b[0;34m\u001b[0m\u001b[0;34m\u001b[0m\u001b[0m\n\u001b[1;32m      2\u001b[0m \u001b[0;32mimport\u001b[0m \u001b[0msigame\u001b[0m \u001b[0;32mas\u001b[0m \u001b[0msi\u001b[0m\u001b[0;34m\u001b[0m\u001b[0;34m\u001b[0m\u001b[0m\n\u001b[0;32m----> 3\u001b[0;31m \u001b[0msi\u001b[0m\u001b[0;34m.\u001b[0m\u001b[0mrun\u001b[0m\u001b[0;34m(\u001b[0m\u001b[0;34m)\u001b[0m\u001b[0;34m\u001b[0m\u001b[0;34m\u001b[0m\u001b[0m\n\u001b[0m",
      "\u001b[0;32m~/projects/SIGAME/SIGAME/sigame/main.py\u001b[0m in \u001b[0;36mrun\u001b[0;34m()\u001b[0m\n\u001b[1;32m     35\u001b[0m     \u001b[0;32mif\u001b[0m \u001b[0mp\u001b[0m\u001b[0;34m.\u001b[0m\u001b[0mstep1_read_SKIRT\u001b[0m\u001b[0;34m:\u001b[0m             \u001b[0mbackend\u001b[0m\u001b[0;34m.\u001b[0m\u001b[0mread_SKIRT\u001b[0m\u001b[0;34m(\u001b[0m\u001b[0mGR\u001b[0m\u001b[0;34m)\u001b[0m\u001b[0;34m\u001b[0m\u001b[0;34m\u001b[0m\u001b[0m\n\u001b[1;32m     36\u001b[0m     \u001b[0;32mif\u001b[0m \u001b[0mp\u001b[0m\u001b[0;34m.\u001b[0m\u001b[0mstep2_grid_gas\u001b[0m\u001b[0;34m:\u001b[0m               \u001b[0mbackend\u001b[0m\u001b[0;34m.\u001b[0m\u001b[0mgrid_gas\u001b[0m\u001b[0;34m(\u001b[0m\u001b[0mGR\u001b[0m\u001b[0;34m)\u001b[0m\u001b[0;34m\u001b[0m\u001b[0;34m\u001b[0m\u001b[0m\n\u001b[0;32m---> 37\u001b[0;31m     \u001b[0;32mif\u001b[0m \u001b[0mp\u001b[0m\u001b[0;34m.\u001b[0m\u001b[0mstep3_setup_Cloudy_grid\u001b[0m\u001b[0;34m:\u001b[0m      \u001b[0mbackend\u001b[0m\u001b[0;34m.\u001b[0m\u001b[0msetup_Cloudy_grid\u001b[0m\u001b[0;34m(\u001b[0m\u001b[0mGR\u001b[0m\u001b[0;34m)\u001b[0m\u001b[0;34m\u001b[0m\u001b[0;34m\u001b[0m\u001b[0m\n\u001b[0m\u001b[1;32m     38\u001b[0m     \u001b[0;32mif\u001b[0m \u001b[0mp\u001b[0m\u001b[0;34m.\u001b[0m\u001b[0mstep3_run_Cloudy\u001b[0m\u001b[0;34m:\u001b[0m             \u001b[0mbackend\u001b[0m\u001b[0;34m.\u001b[0m\u001b[0mrun_Cloudy\u001b[0m\u001b[0;34m(\u001b[0m\u001b[0mGR\u001b[0m\u001b[0;34m)\u001b[0m\u001b[0;34m\u001b[0m\u001b[0;34m\u001b[0m\u001b[0m\n\u001b[1;32m     39\u001b[0m     \u001b[0;32mif\u001b[0m \u001b[0mp\u001b[0m\u001b[0;34m.\u001b[0m\u001b[0mstep3_combine_Cloudy\u001b[0m\u001b[0;34m:\u001b[0m         \u001b[0mbackend\u001b[0m\u001b[0;34m.\u001b[0m\u001b[0mcombine_Cloudy\u001b[0m\u001b[0;34m(\u001b[0m\u001b[0mGR\u001b[0m\u001b[0;34m)\u001b[0m\u001b[0;34m\u001b[0m\u001b[0;34m\u001b[0m\u001b[0m\n",
      "\u001b[0;32m~/projects/SIGAME/SIGAME/sigame/backend.py\u001b[0m in \u001b[0;36msetup_Cloudy_grid\u001b[0;34m(GR)\u001b[0m\n\u001b[1;32m     87\u001b[0m \u001b[0;34m\u001b[0m\u001b[0m\n\u001b[1;32m     88\u001b[0m     \u001b[0;31m# Setup Cloudy grid input\u001b[0m\u001b[0;34m\u001b[0m\u001b[0;34m\u001b[0m\u001b[0;34m\u001b[0m\u001b[0m\n\u001b[0;32m---> 89\u001b[0;31m     \u001b[0mcloudy_library\u001b[0m\u001b[0;34m.\u001b[0m\u001b[0msetup_grid_input\u001b[0m\u001b[0;34m(\u001b[0m\u001b[0mext\u001b[0m\u001b[0;34m=\u001b[0m\u001b[0;34m''\u001b[0m\u001b[0;34m)\u001b[0m\u001b[0;34m\u001b[0m\u001b[0;34m\u001b[0m\u001b[0m\n\u001b[0m\u001b[1;32m     90\u001b[0m \u001b[0;34m\u001b[0m\u001b[0m\n\u001b[1;32m     91\u001b[0m     \u001b[0;31m# Create PBS scripts\u001b[0m\u001b[0;34m\u001b[0m\u001b[0;34m\u001b[0m\u001b[0;34m\u001b[0m\u001b[0m\n",
      "\u001b[0;32m~/projects/SIGAME/SIGAME/sigame/Cloudy_modeling.py\u001b[0m in \u001b[0;36msetup_grid_input\u001b[0;34m(self, ext)\u001b[0m\n\u001b[1;32m    200\u001b[0m \u001b[0;34m\u001b[0m\u001b[0m\n\u001b[1;32m    201\u001b[0m                 \u001b[0;31m# Start writing input radiation field with correct header\u001b[0m\u001b[0;34m\u001b[0m\u001b[0;34m\u001b[0m\u001b[0;34m\u001b[0m\u001b[0m\n\u001b[0;32m--> 202\u001b[0;31m                 \u001b[0moutput_template\u001b[0m          \u001b[0;34m=\u001b[0m   \u001b[0mopen\u001b[0m\u001b[0;34m(\u001b[0m\u001b[0mp\u001b[0m\u001b[0;34m.\u001b[0m\u001b[0md_cloudy\u001b[0m \u001b[0;34m+\u001b[0m \u001b[0;34m'table_%i.cont2'\u001b[0m \u001b[0;34m%\u001b[0m \u001b[0mi\u001b[0m\u001b[0;34m,\u001b[0m\u001b[0;34m'w'\u001b[0m\u001b[0;34m)\u001b[0m\u001b[0;34m\u001b[0m\u001b[0;34m\u001b[0m\u001b[0m\n\u001b[0m\u001b[1;32m    203\u001b[0m                 \u001b[0mcon_header\u001b[0m               \u001b[0;34m=\u001b[0m   \u001b[0mopen\u001b[0m\u001b[0;34m(\u001b[0m\u001b[0mp\u001b[0m\u001b[0;34m.\u001b[0m\u001b[0md_table\u001b[0m \u001b[0;34m+\u001b[0m \u001b[0;34m'cloudy/NH/cont2_header.txt'\u001b[0m\u001b[0;34m,\u001b[0m\u001b[0;34m'r'\u001b[0m\u001b[0;34m)\u001b[0m\u001b[0;34m\u001b[0m\u001b[0;34m\u001b[0m\u001b[0m\n\u001b[1;32m    204\u001b[0m                 \u001b[0;32mfor\u001b[0m \u001b[0mline\u001b[0m \u001b[0;32min\u001b[0m \u001b[0mcon_header\u001b[0m\u001b[0;34m.\u001b[0m\u001b[0mreadlines\u001b[0m\u001b[0;34m(\u001b[0m\u001b[0;34m)\u001b[0m\u001b[0;34m:\u001b[0m\u001b[0;34m\u001b[0m\u001b[0;34m\u001b[0m\u001b[0m\n",
      "\u001b[0;31mFileNotFoundError\u001b[0m: [Errno 2] No such file or directory: '/home/karen/projects/SIGAME/SIGAME//cloudy/table_0.cont2'"
     ]
    }
   ],
   "source": [
    "# Try running SIGAME by un-commenting the following lines\n",
    "import sigame as si\n",
    "si.run()"
   ]
  },
  {
   "cell_type": "markdown",
   "metadata": {},
   "source": [
    "### You should now see a lot of `grid_run_*.in` files in the cloudy/ folder as well as some `table_*.cont2` files and 15 `PBS_script_*.pbs` files.\n",
    "\n",
    "### Next: Run Cloudy!! \n",
    "In parameter.txt, make sure that the bottom part reads:\n",
    "\n",
    "BACKEND TASKS<br>\n",
    "-1 step1_setup_SKIRT<br>\n",
    "-1 step1_read_SKIRT<br>\n",
    "-1 step2_grid_gas<br>\n",
    "-1 step3_setup_Cloudy_grid<br>\n",
    "+1 step3_run_Cloudy<br>\n",
    "-1 step3_combine_Cloudy<br>\n",
    "-1 step3_complete_Cloudy<br>\n",
    "-1 step3_read_Cloudy_grid<br>\n",
    "-1 step3_make_Cloudy_table<br>\n",
    "-1 step4_interpolate<br>\n",
    "-1 step4_derived_results<br>\n",
    "\n",
    "### This will try to submit the generated PBS job script files. If you are not on a computer with PBS, then you must run the Cloudy files in a different manner."
   ]
  },
  {
   "cell_type": "code",
   "execution_count": null,
   "metadata": {},
   "outputs": [],
   "source": [
    "# Try re-starting the kernel and running SIGAME by un-commenting the following lines\n",
    "# import sigame as si\n",
    "# si.run()"
   ]
  },
  {
   "cell_type": "markdown",
   "metadata": {},
   "source": [
    "### Next: Complete the grid!! \n",
    "In parameter.txt, make sure that the bottom part reads:\n",
    "\n",
    "BACKEND TASKS<br>\n",
    "-1 step1_setup_SKIRT<br>\n",
    "-1 step1_read_SKIRT<br>\n",
    "-1 step2_grid_gas<br>\n",
    "-1 step3_setup_Cloudy_grid<br>\n",
    "-1 step3_run_Cloudy<br>\n",
    "+1 step3_combine_Cloudy<br>\n",
    "+1 step3_complete_Cloudy<br>\n",
    "-1 step3_read_Cloudy_grid<br>\n",
    "-1 step3_make_Cloudy_table<br>\n",
    "-1 step4_interpolate<br>\n",
    "-1 step4_derived_results<br>\n",
    "\n",
    "### This will combine the output from the individual grid runs and look for missing output corresponding to Cloudy grids that did not execute or did not finish. It then generates new PBS job scripts to run those missing Cloudy files. Again, this will not run if you do not have PBS installed."
   ]
  },
  {
   "cell_type": "code",
   "execution_count": null,
   "metadata": {},
   "outputs": [],
   "source": [
    "# Try re-starting the kernel and running SIGAME by un-commenting the following lines\n",
    "# import sigame as si\n",
    "# si.run()"
   ]
  },
  {
   "cell_type": "markdown",
   "metadata": {},
   "source": [
    "### Next: Complete the grid!! \n",
    "In parameter.txt, make sure that the bottom part reads:\n",
    "\n",
    "BACKEND TASKS<br>\n",
    "-1 step1_setup_SKIRT<br>\n",
    "-1 step1_read_SKIRT<br>\n",
    "-1 step2_grid_gas<br>\n",
    "-1 step3_setup_Cloudy_grid<br>\n",
    "-1 step3_run_Cloudy<br>\n",
    "+1 step3_combine_Cloudy<br>\n",
    "+1 step3_complete_Cloudy<br>\n",
    "-1 step3_read_Cloudy_grid<br>\n",
    "-1 step3_make_Cloudy_table<br>\n",
    "-1 step4_interpolate<br>\n",
    "-1 step4_derived_results<br>\n",
    "\n",
    "### This will combine the output from the individual grid runs and look for missing output corresponding to Cloudy grids that did not execute or did not finish. It then generates new PBS job scripts to run those missing Cloudy files. Again, this will not run if you do not have PBS installed."
   ]
  },
  {
   "cell_type": "code",
   "execution_count": null,
   "metadata": {},
   "outputs": [],
   "source": [
    "# Try re-starting the kernel and running SIGAME by un-commenting the following lines\n",
    "# import sigame as si\n",
    "# si.run()"
   ]
  },
  {
   "cell_type": "markdown",
   "metadata": {},
   "source": [
    "### Next: Read and sample the Cloudy output!! \n",
    "In parameter.txt, make sure that the bottom part reads:\n",
    "\n",
    "BACKEND TASKS<br>\n",
    "-1 step1_setup_SKIRT<br>\n",
    "-1 step1_read_SKIRT<br>\n",
    "-1 step2_grid_gas<br>\n",
    "-1 step3_setup_Cloudy_grid<br>\n",
    "-1 step3_run_Cloudy<br>\n",
    "-1 step3_combine_Cloudy<br>\n",
    "-1 step3_complete_Cloudy<br>\n",
    "+1 step3_read_Cloudy_grid<br>\n",
    "+1 step3_make_Cloudy_table<br>\n",
    "-1 step4_interpolate<br>\n",
    "-1 step4_derived_results<br>\n",
    "\n",
    "### Finally, this will read the Cloudy grid output files and sample them according to the method chosen in parameters.txt. The possible methods are:\n",
    "\n",
    "- \\_M10 : A PDF of Mach number = 10, \n",
    "- \\_arepoPDF : parametrized PDF that fragments the gas using output from an AREPO simulation (see Olsen et al. 2021)\n",
    "\n",
    "### This will not run if you did not run Cloudy, the output files were not included in the release."
   ]
  },
  {
   "cell_type": "code",
   "execution_count": null,
   "metadata": {},
   "outputs": [],
   "source": [
    "# Try re-starting the kernel and running SIGAME by un-commenting the following lines\n",
    "# import sigame as si\n",
    "# si.run()"
   ]
  },
  {
   "cell_type": "code",
   "execution_count": null,
   "metadata": {},
   "outputs": [],
   "source": []
  }
 ],
 "metadata": {
  "kernelspec": {
   "display_name": "Python 3",
   "language": "python",
   "name": "python3"
  },
  "language_info": {
   "codemirror_mode": {
    "name": "ipython",
    "version": 3
   },
   "file_extension": ".py",
   "mimetype": "text/x-python",
   "name": "python",
   "nbconvert_exporter": "python",
   "pygments_lexer": "ipython3",
   "version": "3.8.5"
  }
 },
 "nbformat": 4,
 "nbformat_minor": 4
}
