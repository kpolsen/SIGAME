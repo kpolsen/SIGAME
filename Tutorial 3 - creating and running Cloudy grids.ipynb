{
 "cells": [
  {
   "cell_type": "markdown",
   "metadata": {},
   "source": [
    "# Tutorial 3 - creating and running Cloudy grids\n",
    "The 3rd step of SIGAME is to run the Cloudy photo-ionization code for a grid with parameters that span the range found in your simulated galaxies.  \n",
    "\n",
    "**This step requires that you install Cloudy and depending on how many grid cells you want to run, i.e. the resolution of the final Cloudy look-up table, you may need access to HPC facilities**. Because of all the complexities in writing and executing Cloudy, this tutorial does not go into too much detail, but rathre gives an overview of how you *would* execute SIGAME. A pre-calculated Cloudy look-up table for the z=0 case has been included with this release, so you can also skip to the next tutorial."
   ]
  },
  {
   "cell_type": "code",
   "execution_count": 1,
   "metadata": {},
   "outputs": [],
   "source": [
    "%matplotlib inline\n",
    "%load_ext autoreload\n",
    "%autoreload 2"
   ]
  },
  {
   "cell_type": "markdown",
   "metadata": {},
   "source": [
    "### Before importing SIGAME!! \n",
    "... it's important that we edit the parameter.txt file so sigame knows what to do. in parameter.txt, make sure that the bottom part reads:\n",
    "\n",
    "BACKEND TASKS<br>\n",
    "-1 step1_setup_SKIRT<br>\n",
    "-1 step1_read_SKIRT<br>\n",
    "-1 step2_grid_gas<br>\n",
    "+1 step3_setup_Cloudy_grid<br>\n",
    "-1 step3_run_Cloudy<br>\n",
    "-1 step3_combine_Cloudy<br>\n",
    "-1 step3_complete_Cloudy<br>\n",
    "-1 step3_read_Cloudy_grid<br>\n",
    "-1 step3_make_Cloudy_table<br>\n",
    "-1 step4_interpolate<br>\n",
    "-1 step4_derived_results<br>\n",
    "\n",
    "### This will create the input Cloudy files as well as PBS job script files.\n",
    "\n",
    "**In addition** you should look at the following lines in `sigame/param.py`:\n",
    "```\n",
    "                                grid_Z = np.arange(-2,0.51,0.5),\\\n",
    "                                grid_nH = np.arange(-4,7.1,1),\\\n",
    "                                grid_FUV = np.arange(-7,4.1,2),\\\n",
    "                                grid_DTM = np.arange(-2,-0.19,0.5),\\\n",
    "```\n",
    "These lines set the grid points that Cloudy will explore with 1-zone models, and the total number of 1-zone models will depend on the resolution in your grid. The above grid parameters will generate 1584 1-zone Cloudy models that must be executed to create the Cloudy look-up table."
   ]
  },
  {
   "cell_type": "code",
   "execution_count": 2,
   "metadata": {
    "scrolled": false
   },
   "outputs": [
    {
     "name": "stdout",
     "output_type": "stream",
     "text": [
      "\n",
      "     =======================================================  \n",
      "     \n",
      "     .oOOOo.  ooOoOOo  .oOOOo.     Oo    Oo      oO o.OOoOoo  \n",
      "     o     o     O    .O     o    o  O   O O    o o  O        \n",
      "     O.          o    o          O    o  o  o  O  O  o        \n",
      "      `OOoo.     O    O         oOooOoOo O   Oo   O  ooOO     \n",
      "           `O    o    O   .oOOo o      O O        o  O        \n",
      "            o    O    o.      O O      o o        O  o        \n",
      "     O.    .O    O     O.    oO o      O o        O  O        \n",
      "      `oooO'  ooOOoOo   `OooO'  O.     O O        o ooOooOoO  \n",
      "     \n",
      "     =======================================================  \n",
      "      SImulator of GAlaxy Millimeter/submillimeter Emission\n",
      "---- A code to simulate the far-IR emission lines of the ISM  ----\n",
      "------------- in galaxies from hydrodynamical codes --------------\n",
      "----- for the interpretation and prediction of observations. -----\n",
      "- Contact: Karen Olsen, karenolsen (at) email.arizona.edu (2021) -\n",
      "\n",
      "\n",
      "Reading parameter file: [/home/karen/projects/SIGAME/SIGAME/parameters.txt] ... \n",
      "will look for skirt input/output data in /home/karen/projects/SIGAME/SIGAME/skirt/\n",
      "\n",
      "/home/karen/projects/SIGAME/SIGAME/sigame/temp/\n",
      "\n",
      "will look for code in /home/karen/projects/SIGAME/SIGAME/sigame/\n",
      "will look for sim data in /home/karen/projects/SIGAME/SIGAME/data/\n",
      "will look for cloudy data in /home/karen/projects/SIGAME/SIGAME//cloudy/\n",
      "\n",
      "                 Parameters chosen                \n",
      "+--------------------+----------+---------------+--------------------------------------------------+\n",
      "|     Parameter      |  Value   |  Name in code |                   Explanation                    |\n",
      "+--------------------+----------+---------------+--------------------------------------------------+\n",
      "|   Repr. redshift   |         0|      zred     |         Redshift of simulation snapshot          |\n",
      "|     # galaxies     |         3|      nGal     |      Number of galaxies in redshift sample       |\n",
      "|      Sim name      |     simba|    sim_name   |                 Simulation name                  |\n",
      "|      Sim run       |    _25Mpc|    sim_run    |                  Simulation run                  |\n",
      "|      Grid ext      |          |    grid_ext   |              Cloudy grid extension               |\n",
      "|     Table ext      | _arepoPDF|   table_ext   |          Cloudy look-up table extension          |\n",
      "+--------------------+----------+---------------+--------------------------------------------------+\n",
      "\n",
      "This is what sigame.run() is set up to do (change in parameter file):\n",
      "- Generate input scripts for Cloudy ionization equilibrium models\n",
      "\n",
      "--------------------------------------------------------------\n",
      "\n",
      "Ready to continue!\n",
      "\n",
      "Filename in global_results._get_file(): \n",
      "/home/karen/projects/SIGAME/SIGAME/data/results/z0_3gals_simba_25Mpc_arepoPDF\n",
      "\n",
      "** This is the main controller running SIGAME for the given galaxy sample **\n",
      "(Number of galaxies in selection: 3 )\n",
      "OBS: Overwrite is OFF, will not overwrite any existing files\n",
      "\n",
      "--- Step 3: Setup Cloudy grid ---\n",
      "Directory for Cloudy input and output files:\n",
      "/home/karen/projects/SIGAME/SIGAME//cloudy/\n",
      "nH : [-4. -3. -2. -1.  0.  1.  2.  3.  4.  5.  6.  7.]\n",
      "FUV : [-7. -5. -3. -1.  1.  3.]\n",
      "CRs :  [-22.69897 -20.69897 -18.69897 -16.69897 -14.69897 -12.69897]\n",
      "Zs :  [-2.  -1.5 -1.  -0.5  0.   0.5]\n",
      "Total number of models:  1584\n",
      "11 6 6 4\n",
      "Total number of grids:  1584\n",
      "Ready to run Cloudy!\n",
      "Number of grids: 1584\n"
     ]
    }
   ],
   "source": [
    "# Try running SIGAME by un-commenting the following lines\n",
    "import sigame as si\n",
    "si.run()"
   ]
  },
  {
   "cell_type": "markdown",
   "metadata": {},
   "source": [
    "### You should now see a lot of `grid_run_*.in` files in the cloudy/ folder as well as some `table_*.cont2` files and 15 `PBS_script_*.pbs` files.\n",
    "\n",
    "### Next: Run Cloudy!! \n",
    "In parameter.txt, make sure that the bottom part reads:\n",
    "\n",
    "BACKEND TASKS<br>\n",
    "-1 step1_setup_SKIRT<br>\n",
    "-1 step1_read_SKIRT<br>\n",
    "-1 step2_grid_gas<br>\n",
    "-1 step3_setup_Cloudy_grid<br>\n",
    "+1 step3_run_Cloudy<br>\n",
    "-1 step3_combine_Cloudy<br>\n",
    "-1 step3_complete_Cloudy<br>\n",
    "-1 step3_read_Cloudy_grid<br>\n",
    "-1 step3_make_Cloudy_table<br>\n",
    "-1 step4_interpolate<br>\n",
    "-1 step4_derived_results<br>\n",
    "\n",
    "### This will try to submit the generated PBS job script files. If you are not on a computer with PBS, then you must run the Cloudy files in a different manner."
   ]
  },
  {
   "cell_type": "code",
   "execution_count": null,
   "metadata": {},
   "outputs": [],
   "source": [
    "# Try re-starting the kerneal and running SIGAME by un-commenting the following lines\n",
    "# import sigame as si\n",
    "# si.run()"
   ]
  },
  {
   "cell_type": "markdown",
   "metadata": {},
   "source": [
    "### Next: Complete the grid!! \n",
    "In parameter.txt, make sure that the bottom part reads:\n",
    "\n",
    "BACKEND TASKS<br>\n",
    "-1 step1_setup_SKIRT<br>\n",
    "-1 step1_read_SKIRT<br>\n",
    "-1 step2_grid_gas<br>\n",
    "-1 step3_setup_Cloudy_grid<br>\n",
    "-1 step3_run_Cloudy<br>\n",
    "+1 step3_combine_Cloudy<br>\n",
    "+1 step3_complete_Cloudy<br>\n",
    "-1 step3_read_Cloudy_grid<br>\n",
    "-1 step3_make_Cloudy_table<br>\n",
    "-1 step4_interpolate<br>\n",
    "-1 step4_derived_results<br>\n",
    "\n",
    "### This will combine the output from the individual grid runs and look for missing output corresponding to Cloudy grids that did not execute or did not finish. It then generates new PBS job scripts to run those missing Cloudy files. Again, this will not run if you do not have PBS installed."
   ]
  },
  {
   "cell_type": "code",
   "execution_count": null,
   "metadata": {},
   "outputs": [],
   "source": [
    "# Try re-starting the kerneal and running SIGAME by un-commenting the following lines\n",
    "# import sigame as si\n",
    "# si.run()"
   ]
  },
  {
   "cell_type": "markdown",
   "metadata": {},
   "source": [
    "### Next: Complete the grid!! \n",
    "In parameter.txt, make sure that the bottom part reads:\n",
    "\n",
    "BACKEND TASKS<br>\n",
    "-1 step1_setup_SKIRT<br>\n",
    "-1 step1_read_SKIRT<br>\n",
    "-1 step2_grid_gas<br>\n",
    "-1 step3_setup_Cloudy_grid<br>\n",
    "-1 step3_run_Cloudy<br>\n",
    "+1 step3_combine_Cloudy<br>\n",
    "+1 step3_complete_Cloudy<br>\n",
    "-1 step3_read_Cloudy_grid<br>\n",
    "-1 step3_make_Cloudy_table<br>\n",
    "-1 step4_interpolate<br>\n",
    "-1 step4_derived_results<br>\n",
    "\n",
    "### This will combine the output from the individual grid runs and look for missing output corresponding to Cloudy grids that did not execute or did not finish. It then generates new PBS job scripts to run those missing Cloudy files. Again, this will not run if you do not have PBS installed."
   ]
  },
  {
   "cell_type": "code",
   "execution_count": null,
   "metadata": {},
   "outputs": [],
   "source": [
    "# Try re-starting the kerneal and running SIGAME by un-commenting the following lines\n",
    "# import sigame as si\n",
    "# si.run()"
   ]
  },
  {
   "cell_type": "markdown",
   "metadata": {},
   "source": [
    "### Next: Read and sample the Cloudy output!! \n",
    "In parameter.txt, make sure that the bottom part reads:\n",
    "\n",
    "BACKEND TASKS<br>\n",
    "-1 step1_setup_SKIRT<br>\n",
    "-1 step1_read_SKIRT<br>\n",
    "-1 step2_grid_gas<br>\n",
    "-1 step3_setup_Cloudy_grid<br>\n",
    "-1 step3_run_Cloudy<br>\n",
    "-1 step3_combine_Cloudy<br>\n",
    "-1 step3_complete_Cloudy<br>\n",
    "+1 step3_read_Cloudy_grid<br>\n",
    "+1 step3_make_Cloudy_table<br>\n",
    "-1 step4_interpolate<br>\n",
    "-1 step4_derived_results<br>\n",
    "\n",
    "### Finally, this will read the Cloudy grid output files and sample them according to the method chosen in parameters.txt. The possible methods are:\n",
    "\n",
    "- \\_M10 : A PDF of Mach number = 10, \n",
    "- \\_arepoPDF : parametrized PDF that fragments the gas using output from an AREPO simulation (see Olsen et al. 2021)\n",
    "\n",
    "### This will not run if you did not run Cloudy, the output files were not included in the release."
   ]
  },
  {
   "cell_type": "code",
   "execution_count": null,
   "metadata": {},
   "outputs": [],
   "source": [
    "# Try re-starting the kerneal and running SIGAME by un-commenting the following lines\n",
    "# import sigame as si\n",
    "# si.run()"
   ]
  },
  {
   "cell_type": "code",
   "execution_count": null,
   "metadata": {},
   "outputs": [],
   "source": []
  }
 ],
 "metadata": {
  "kernelspec": {
   "display_name": "Python 3",
   "language": "python",
   "name": "python3"
  },
  "language_info": {
   "codemirror_mode": {
    "name": "ipython",
    "version": 3
   },
   "file_extension": ".py",
   "mimetype": "text/x-python",
   "name": "python",
   "nbconvert_exporter": "python",
   "pygments_lexer": "ipython3",
   "version": "3.8.5"
  }
 },
 "nbformat": 4,
 "nbformat_minor": 4
}
