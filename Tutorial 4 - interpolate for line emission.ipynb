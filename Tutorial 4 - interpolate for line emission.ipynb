{
 "cells": [
  {
   "cell_type": "markdown",
   "metadata": {},
   "source": [
    "# Tutorial 4 - interpolate for line emission\n",
    "Step 4 of SIGAME is to interpolate in the Cloudy models to make predictions for the line emission of all simulated sample galaxies. This will overwrite the `cell_data` files in `data/cell_data` with additional info, such as luminosity from each ISM phase considered (ionized, atomic and molecular) as well as other mass-weighted quantities such as mass of each ISM phase, electron density and temperature. \n",
    "\n",
    "**Compared to the previous steps, this step should not be as memory-intensive**."
   ]
  },
  {
   "cell_type": "code",
   "execution_count": 1,
   "metadata": {},
   "outputs": [],
   "source": [
    "%matplotlib inline\n",
    "%load_ext autoreload\n",
    "%autoreload 2"
   ]
  },
  {
   "cell_type": "markdown",
   "metadata": {},
   "source": [
    "### Before importing SIGAME!! \n",
    "... it's important that we edit the parameter.txt file so sigame knows what to do. in parameter.txt, make sure that the bottom part reads:\n",
    "\n",
    "BACKEND TASKS<br>\n",
    "-1 step1_setup_SKIRT<br>\n",
    "-1 step1_read_SKIRT<br>\n",
    "-1 step2_grid_gas<br>\n",
    "-1 step3_setup_Cloudy_grid<br>\n",
    "-1 step3_run_Cloudy<br>\n",
    "-1 step3_combine_Cloudy<br>\n",
    "-1 step3_complete_Cloudy<br>\n",
    "-1 step3_read_Cloudy_grid<br>\n",
    "-1 step3_make_Cloudy_table<br>\n",
    "+1 step4_interpolate<br>\n",
    "+1 step4_derived_results<br>"
   ]
  },
  {
   "cell_type": "markdown",
   "metadata": {},
   "source": [
    "### The final \"derived results\" task, basically calculates mass-weighted quantities for the entire galaxy and stores them in the global results file in the data/results folder. This is useful if you just want to look at global properties."
   ]
  },
  {
   "cell_type": "code",
   "execution_count": 2,
   "metadata": {
    "scrolled": false
   },
   "outputs": [
    {
     "name": "stdout",
     "output_type": "stream",
     "text": [
      "\n",
      "     =======================================================  \n",
      "     \n",
      "     .oOOOo.  ooOoOOo  .oOOOo.     Oo    Oo      oO o.OOoOoo  \n",
      "     o     o     O    .O     o    o  O   O O    o o  O        \n",
      "     O.          o    o          O    o  o  o  O  O  o        \n",
      "      `OOoo.     O    O         oOooOoOo O   Oo   O  ooOO     \n",
      "           `O    o    O   .oOOo o      O O        o  O        \n",
      "            o    O    o.      O O      o o        O  o        \n",
      "     O.    .O    O     O.    oO o      O o        O  O        \n",
      "      `oooO'  ooOOoOo   `OooO'  O.     O O        o ooOooOoO  \n",
      "     \n",
      "     =======================================================  \n",
      "      SImulator of GAlaxy Millimeter/submillimeter Emission\n",
      "---- A code to simulate the far-IR emission lines of the ISM  ----\n",
      "------------- in galaxies from hydrodynamical codes --------------\n",
      "----- for the interpretation and prediction of observations. -----\n",
      "- Contact: Karen Olsen, karenolsen (at) email.arizona.edu (2021) -\n",
      "\n",
      "\n",
      "Reading parameter file: [/home/karen/projects/SIGAME/SIGAME/parameters.txt] ... \n",
      "will look for skirt input/output data in /home/karen/projects/SIGAME/SIGAME/skirt/\n",
      "\n",
      "/home/karen/projects/SIGAME/SIGAME/sigame/temp/\n",
      "\n",
      "will look for code in /home/karen/projects/SIGAME/SIGAME/sigame/\n",
      "will look for sim data in /home/karen/projects/SIGAME/SIGAME/data/\n",
      "will look for cloudy data in /home/karen/projects/SIGAME/SIGAME//cloudy/\n",
      "\n",
      "                 Parameters chosen                \n",
      "+--------------------+----------+---------------+--------------------------------------------------+\n",
      "|     Parameter      |  Value   |  Name in code |                   Explanation                    |\n",
      "+--------------------+----------+---------------+--------------------------------------------------+\n",
      "|   Repr. redshift   |         0|      zred     |         Redshift of simulation snapshot          |\n",
      "|     # galaxies     |         3|      nGal     |      Number of galaxies in redshift sample       |\n",
      "|      Sim name      |     simba|    sim_name   |                 Simulation name                  |\n",
      "|      Sim run       |    _25Mpc|    sim_run    |                  Simulation run                  |\n",
      "|      Grid ext      |          |    grid_ext   |              Cloudy grid extension               |\n",
      "|     Table ext      | _arepoPDF|   table_ext   |          Cloudy look-up table extension          |\n",
      "+--------------------+----------+---------------+--------------------------------------------------+\n",
      "\n",
      "This is what sigame.run() is set up to do (change in parameter file):\n",
      "- Interpolate in cloudy look-up table for each gas cell\n",
      "\n",
      "--------------------------------------------------------------\n",
      "\n",
      "Ready to continue!\n",
      "\n",
      "Filename in global_results._get_file(): \n",
      "/home/karen/projects/SIGAME/SIGAME/data/results/z0_3gals_simba_25Mpc_arepoPDF\n",
      "\n",
      "** This is the main controller running SIGAME for the given galaxy sample **\n",
      "(Number of galaxies in selection: 3 )\n",
      "OBS: Overwrite is OFF, will not overwrite any existing files\n",
      "\n",
      "--- Step 4: Interpolate for line luminosities ---\n",
      "\n",
      "Now for galaxy # 0\n",
      "Filename in global_results._get_file(): \n",
      "/home/karen/projects/SIGAME/SIGAME/data/results/z0_3gals_simba_25Mpc_arepoPDF\n",
      "Line luminosities not registered in GR, will run interpolation\n"
     ]
    },
    {
     "ename": "KeyboardInterrupt",
     "evalue": "",
     "output_type": "error",
     "traceback": [
      "\u001b[0;31m---------------------------------------------------------------------------\u001b[0m",
      "\u001b[0;31mKeyboardInterrupt\u001b[0m                         Traceback (most recent call last)",
      "\u001b[0;32m<ipython-input-2-8f0a9cb9c5ca>\u001b[0m in \u001b[0;36m<module>\u001b[0;34m\u001b[0m\n\u001b[1;32m      1\u001b[0m \u001b[0;32mimport\u001b[0m \u001b[0msigame\u001b[0m \u001b[0;32mas\u001b[0m \u001b[0msi\u001b[0m\u001b[0;34m\u001b[0m\u001b[0;34m\u001b[0m\u001b[0m\n\u001b[0;32m----> 2\u001b[0;31m \u001b[0msi\u001b[0m\u001b[0;34m.\u001b[0m\u001b[0mrun\u001b[0m\u001b[0;34m(\u001b[0m\u001b[0;34m)\u001b[0m\u001b[0;34m\u001b[0m\u001b[0;34m\u001b[0m\u001b[0m\n\u001b[0m",
      "\u001b[0;32m~/projects/SIGAME/SIGAME/sigame/main.py\u001b[0m in \u001b[0;36mrun\u001b[0;34m()\u001b[0m\n\u001b[1;32m     41\u001b[0m     \u001b[0;32mif\u001b[0m \u001b[0mp\u001b[0m\u001b[0;34m.\u001b[0m\u001b[0mstep3_read_Cloudy_grid\u001b[0m\u001b[0;34m:\u001b[0m       \u001b[0mbackend\u001b[0m\u001b[0;34m.\u001b[0m\u001b[0mread_Cloudy_grid\u001b[0m\u001b[0;34m(\u001b[0m\u001b[0mGR\u001b[0m\u001b[0;34m)\u001b[0m\u001b[0;34m\u001b[0m\u001b[0;34m\u001b[0m\u001b[0m\n\u001b[1;32m     42\u001b[0m     \u001b[0;32mif\u001b[0m \u001b[0mp\u001b[0m\u001b[0;34m.\u001b[0m\u001b[0mstep3_make_Cloudy_table\u001b[0m\u001b[0;34m:\u001b[0m      \u001b[0mbackend\u001b[0m\u001b[0;34m.\u001b[0m\u001b[0mmake_Cloudy_table\u001b[0m\u001b[0;34m(\u001b[0m\u001b[0mGR\u001b[0m\u001b[0;34m)\u001b[0m\u001b[0;34m\u001b[0m\u001b[0;34m\u001b[0m\u001b[0m\n\u001b[0;32m---> 43\u001b[0;31m     \u001b[0;32mif\u001b[0m \u001b[0mp\u001b[0m\u001b[0;34m.\u001b[0m\u001b[0mstep4_interpolate\u001b[0m\u001b[0;34m:\u001b[0m            \u001b[0mbackend\u001b[0m\u001b[0;34m.\u001b[0m\u001b[0minterpolate\u001b[0m\u001b[0;34m(\u001b[0m\u001b[0mGR\u001b[0m\u001b[0;34m)\u001b[0m\u001b[0;34m\u001b[0m\u001b[0;34m\u001b[0m\u001b[0m\n\u001b[0m\u001b[1;32m     44\u001b[0m \u001b[0;34m\u001b[0m\u001b[0m\n\u001b[1;32m     45\u001b[0m \u001b[0;32mdef\u001b[0m \u001b[0mprint_results\u001b[0m\u001b[0;34m(\u001b[0m\u001b[0;34m)\u001b[0m\u001b[0;34m:\u001b[0m\u001b[0;34m\u001b[0m\u001b[0;34m\u001b[0m\u001b[0m\n",
      "\u001b[0;32m~/projects/SIGAME/SIGAME/sigame/backend.py\u001b[0m in \u001b[0;36minterpolate\u001b[0;34m(GR)\u001b[0m\n\u001b[1;32m    165\u001b[0m         \u001b[0;32mfor\u001b[0m \u001b[0mgal_index\u001b[0m \u001b[0;32min\u001b[0m \u001b[0mgal_indices\u001b[0m\u001b[0;34m:\u001b[0m\u001b[0;34m\u001b[0m\u001b[0;34m\u001b[0m\u001b[0m\n\u001b[1;32m    166\u001b[0m             \u001b[0mprint\u001b[0m\u001b[0;34m(\u001b[0m\u001b[0;34m'\\nNow for galaxy # %s'\u001b[0m \u001b[0;34m%\u001b[0m \u001b[0mgal_index\u001b[0m\u001b[0;34m)\u001b[0m\u001b[0;34m\u001b[0m\u001b[0;34m\u001b[0m\u001b[0m\n\u001b[0;32m--> 167\u001b[0;31m             \u001b[0mgal\u001b[0m\u001b[0;34m.\u001b[0m\u001b[0mrun_interp\u001b[0m\u001b[0;34m(\u001b[0m\u001b[0mgal_index\u001b[0m\u001b[0;34m)\u001b[0m\u001b[0;34m\u001b[0m\u001b[0;34m\u001b[0m\u001b[0m\n\u001b[0m\u001b[1;32m    168\u001b[0m \u001b[0;34m\u001b[0m\u001b[0m\n\u001b[1;32m    169\u001b[0m \u001b[0;32mdef\u001b[0m \u001b[0mderived_results\u001b[0m\u001b[0;34m(\u001b[0m\u001b[0mGR\u001b[0m\u001b[0;34m)\u001b[0m\u001b[0;34m:\u001b[0m\u001b[0;34m\u001b[0m\u001b[0;34m\u001b[0m\u001b[0m\n",
      "\u001b[0;32m~/projects/SIGAME/SIGAME/sigame/galaxy.py\u001b[0m in \u001b[0;36mrun_interp\u001b[0;34m(gal_index)\u001b[0m\n\u001b[1;32m   1697\u001b[0m     \u001b[0minterp_obj\u001b[0m\u001b[0;34m.\u001b[0m\u001b[0msetup_tasks\u001b[0m\u001b[0;34m(\u001b[0m\u001b[0;34m)\u001b[0m\u001b[0;34m\u001b[0m\u001b[0;34m\u001b[0m\u001b[0m\n\u001b[1;32m   1698\u001b[0m     \u001b[0;32mif\u001b[0m \u001b[0minterp_obj\u001b[0m\u001b[0;34m.\u001b[0m\u001b[0mdo_interp\u001b[0m\u001b[0;34m:\u001b[0m\u001b[0;34m\u001b[0m\u001b[0;34m\u001b[0m\u001b[0m\n\u001b[0;32m-> 1699\u001b[0;31m         \u001b[0minterp_obj\u001b[0m\u001b[0;34m.\u001b[0m\u001b[0mrun\u001b[0m\u001b[0;34m(\u001b[0m\u001b[0;34m)\u001b[0m\u001b[0;34m\u001b[0m\u001b[0;34m\u001b[0m\u001b[0m\n\u001b[0m\u001b[1;32m   1700\u001b[0m     \u001b[0;32melse\u001b[0m\u001b[0;34m:\u001b[0m\u001b[0;34m\u001b[0m\u001b[0;34m\u001b[0m\u001b[0m\n\u001b[1;32m   1701\u001b[0m         \u001b[0mprint\u001b[0m\u001b[0;34m(\u001b[0m\u001b[0;34m'Galxy # %i already interpolated!'\u001b[0m \u001b[0;34m%\u001b[0m \u001b[0mgal_index\u001b[0m\u001b[0;34m)\u001b[0m\u001b[0;34m\u001b[0m\u001b[0;34m\u001b[0m\u001b[0m\n",
      "\u001b[0;32m~/projects/SIGAME/SIGAME/sigame/galaxy.py\u001b[0m in \u001b[0;36mrun\u001b[0;34m(self)\u001b[0m\n\u001b[1;32m   1858\u001b[0m \u001b[0;34m\u001b[0m\u001b[0m\n\u001b[1;32m   1859\u001b[0m         \u001b[0;31m# Interpolate in Cloudy models\u001b[0m\u001b[0;34m\u001b[0m\u001b[0;34m\u001b[0m\u001b[0;34m\u001b[0m\u001b[0m\n\u001b[0;32m-> 1860\u001b[0;31m         \u001b[0mself\u001b[0m\u001b[0;34m.\u001b[0m\u001b[0mcell_data\u001b[0m\u001b[0;34m.\u001b[0m\u001b[0m_do_interpolation\u001b[0m\u001b[0;34m(\u001b[0m\u001b[0;34m)\u001b[0m\u001b[0;34m\u001b[0m\u001b[0;34m\u001b[0m\u001b[0m\n\u001b[0m\u001b[1;32m   1861\u001b[0m \u001b[0;34m\u001b[0m\u001b[0m\n\u001b[1;32m   1862\u001b[0m \u001b[0;31m#===========================================================================\u001b[0m\u001b[0;34m\u001b[0m\u001b[0;34m\u001b[0m\u001b[0;34m\u001b[0m\u001b[0m\n",
      "\u001b[0;32m~/projects/SIGAME/SIGAME/sigame/galaxy.py\u001b[0m in \u001b[0;36m_do_interpolation\u001b[0;34m(self)\u001b[0m\n\u001b[1;32m    459\u001b[0m         \u001b[0mself\u001b[0m\u001b[0;34m.\u001b[0m\u001b[0msave_dataframe\u001b[0m\u001b[0;34m(\u001b[0m\u001b[0;34m)\u001b[0m\u001b[0;34m\u001b[0m\u001b[0;34m\u001b[0m\u001b[0m\n\u001b[1;32m    460\u001b[0m         \u001b[0;32mif\u001b[0m \u001b[0;34m'vx'\u001b[0m \u001b[0;32mnot\u001b[0m \u001b[0;32min\u001b[0m \u001b[0mdf_or\u001b[0m\u001b[0;34m.\u001b[0m\u001b[0mkeys\u001b[0m\u001b[0;34m(\u001b[0m\u001b[0;34m)\u001b[0m\u001b[0;34m:\u001b[0m\u001b[0;34m\u001b[0m\u001b[0;34m\u001b[0m\u001b[0m\n\u001b[0;32m--> 461\u001b[0;31m             \u001b[0mself\u001b[0m\u001b[0;34m.\u001b[0m\u001b[0m_add_velocity\u001b[0m\u001b[0;34m(\u001b[0m\u001b[0;34m)\u001b[0m\u001b[0;34m\u001b[0m\u001b[0;34m\u001b[0m\u001b[0m\n\u001b[0m\u001b[1;32m    462\u001b[0m         \u001b[0mself\u001b[0m\u001b[0;34m.\u001b[0m\u001b[0msave_dataframe\u001b[0m\u001b[0;34m(\u001b[0m\u001b[0;34m)\u001b[0m\u001b[0;34m\u001b[0m\u001b[0;34m\u001b[0m\u001b[0m\n\u001b[1;32m    463\u001b[0m         \u001b[0mdf_or\u001b[0m                   \u001b[0;34m=\u001b[0m   \u001b[0mself\u001b[0m\u001b[0;34m.\u001b[0m\u001b[0mget_dataframe\u001b[0m\u001b[0;34m(\u001b[0m\u001b[0;34m)\u001b[0m\u001b[0;34m\u001b[0m\u001b[0;34m\u001b[0m\u001b[0m\n",
      "\u001b[0;32m~/projects/SIGAME/SIGAME/sigame/galaxy.py\u001b[0m in \u001b[0;36m_add_velocity\u001b[0;34m(self)\u001b[0m\n\u001b[1;32m    911\u001b[0m \u001b[0;34m\u001b[0m\u001b[0m\n\u001b[1;32m    912\u001b[0m                 \u001b[0;31m# properties of neighboring sim particles\u001b[0m\u001b[0;34m\u001b[0m\u001b[0;34m\u001b[0m\u001b[0;34m\u001b[0m\u001b[0m\n\u001b[0;32m--> 913\u001b[0;31m                 \u001b[0msimgas_cut\u001b[0m \u001b[0;34m=\u001b[0m \u001b[0msimgas\u001b[0m\u001b[0;34m.\u001b[0m\u001b[0miloc\u001b[0m\u001b[0;34m[\u001b[0m\u001b[0mindices\u001b[0m\u001b[0;34m[\u001b[0m\u001b[0mi\u001b[0m\u001b[0;34m]\u001b[0m\u001b[0;34m]\u001b[0m\u001b[0;34m.\u001b[0m\u001b[0mreset_index\u001b[0m\u001b[0;34m(\u001b[0m\u001b[0mdrop\u001b[0m\u001b[0;34m=\u001b[0m\u001b[0;32mTrue\u001b[0m\u001b[0;34m)\u001b[0m\u001b[0;34m\u001b[0m\u001b[0;34m\u001b[0m\u001b[0m\n\u001b[0m\u001b[1;32m    914\u001b[0m                 \u001b[0mvx_cut\u001b[0m \u001b[0;34m=\u001b[0m \u001b[0msimgas_cut\u001b[0m\u001b[0;34m[\u001b[0m\u001b[0;34m'vx'\u001b[0m\u001b[0;34m]\u001b[0m\u001b[0;34m\u001b[0m\u001b[0;34m\u001b[0m\u001b[0m\n\u001b[1;32m    915\u001b[0m                 \u001b[0mvy_cut\u001b[0m \u001b[0;34m=\u001b[0m \u001b[0msimgas_cut\u001b[0m\u001b[0;34m[\u001b[0m\u001b[0;34m'vy'\u001b[0m\u001b[0;34m]\u001b[0m\u001b[0;34m\u001b[0m\u001b[0;34m\u001b[0m\u001b[0m\n",
      "\u001b[0;32m~/code/anaconda3/envs/py38/lib/python3.8/site-packages/pandas/core/frame.py\u001b[0m in \u001b[0;36mreset_index\u001b[0;34m(self, level, drop, inplace, col_level, col_fill)\u001b[0m\n\u001b[1;32m   4810\u001b[0m             \u001b[0;32mreturn\u001b[0m \u001b[0mvalues\u001b[0m\u001b[0;34m\u001b[0m\u001b[0;34m\u001b[0m\u001b[0m\n\u001b[1;32m   4811\u001b[0m \u001b[0;34m\u001b[0m\u001b[0m\n\u001b[0;32m-> 4812\u001b[0;31m         \u001b[0mnew_index\u001b[0m \u001b[0;34m=\u001b[0m \u001b[0mibase\u001b[0m\u001b[0;34m.\u001b[0m\u001b[0mdefault_index\u001b[0m\u001b[0;34m(\u001b[0m\u001b[0mlen\u001b[0m\u001b[0;34m(\u001b[0m\u001b[0mnew_obj\u001b[0m\u001b[0;34m)\u001b[0m\u001b[0;34m)\u001b[0m\u001b[0;34m\u001b[0m\u001b[0;34m\u001b[0m\u001b[0m\n\u001b[0m\u001b[1;32m   4813\u001b[0m         \u001b[0;32mif\u001b[0m \u001b[0mlevel\u001b[0m \u001b[0;32mis\u001b[0m \u001b[0;32mnot\u001b[0m \u001b[0;32mNone\u001b[0m\u001b[0;34m:\u001b[0m\u001b[0;34m\u001b[0m\u001b[0;34m\u001b[0m\u001b[0m\n\u001b[1;32m   4814\u001b[0m             \u001b[0;32mif\u001b[0m \u001b[0;32mnot\u001b[0m \u001b[0misinstance\u001b[0m\u001b[0;34m(\u001b[0m\u001b[0mlevel\u001b[0m\u001b[0;34m,\u001b[0m \u001b[0;34m(\u001b[0m\u001b[0mtuple\u001b[0m\u001b[0;34m,\u001b[0m \u001b[0mlist\u001b[0m\u001b[0;34m)\u001b[0m\u001b[0;34m)\u001b[0m\u001b[0;34m:\u001b[0m\u001b[0;34m\u001b[0m\u001b[0;34m\u001b[0m\u001b[0m\n",
      "\u001b[0;32m~/code/anaconda3/envs/py38/lib/python3.8/site-packages/pandas/core/indexes/base.py\u001b[0m in \u001b[0;36mdefault_index\u001b[0;34m(n)\u001b[0m\n\u001b[1;32m   5649\u001b[0m     \u001b[0;32mfrom\u001b[0m \u001b[0mpandas\u001b[0m\u001b[0;34m.\u001b[0m\u001b[0mcore\u001b[0m\u001b[0;34m.\u001b[0m\u001b[0mindexes\u001b[0m\u001b[0;34m.\u001b[0m\u001b[0mrange\u001b[0m \u001b[0;32mimport\u001b[0m \u001b[0mRangeIndex\u001b[0m\u001b[0;34m\u001b[0m\u001b[0;34m\u001b[0m\u001b[0m\n\u001b[1;32m   5650\u001b[0m \u001b[0;34m\u001b[0m\u001b[0m\n\u001b[0;32m-> 5651\u001b[0;31m     \u001b[0;32mreturn\u001b[0m \u001b[0mRangeIndex\u001b[0m\u001b[0;34m(\u001b[0m\u001b[0;36m0\u001b[0m\u001b[0;34m,\u001b[0m \u001b[0mn\u001b[0m\u001b[0;34m,\u001b[0m \u001b[0mname\u001b[0m\u001b[0;34m=\u001b[0m\u001b[0;32mNone\u001b[0m\u001b[0;34m)\u001b[0m\u001b[0;34m\u001b[0m\u001b[0;34m\u001b[0m\u001b[0m\n\u001b[0m\u001b[1;32m   5652\u001b[0m \u001b[0;34m\u001b[0m\u001b[0m\n\u001b[1;32m   5653\u001b[0m \u001b[0;34m\u001b[0m\u001b[0m\n",
      "\u001b[0;32m~/code/anaconda3/envs/py38/lib/python3.8/site-packages/pandas/core/indexes/range.py\u001b[0m in \u001b[0;36m__new__\u001b[0;34m(cls, start, stop, step, dtype, copy, name)\u001b[0m\n\u001b[1;32m     97\u001b[0m \u001b[0;34m\u001b[0m\u001b[0m\n\u001b[1;32m     98\u001b[0m         \u001b[0;31m# validate the arguments\u001b[0m\u001b[0;34m\u001b[0m\u001b[0;34m\u001b[0m\u001b[0;34m\u001b[0m\u001b[0m\n\u001b[0;32m---> 99\u001b[0;31m         \u001b[0;32mif\u001b[0m \u001b[0mcom\u001b[0m\u001b[0;34m.\u001b[0m\u001b[0mall_none\u001b[0m\u001b[0;34m(\u001b[0m\u001b[0mstart\u001b[0m\u001b[0;34m,\u001b[0m \u001b[0mstop\u001b[0m\u001b[0;34m,\u001b[0m \u001b[0mstep\u001b[0m\u001b[0;34m)\u001b[0m\u001b[0;34m:\u001b[0m\u001b[0;34m\u001b[0m\u001b[0;34m\u001b[0m\u001b[0m\n\u001b[0m\u001b[1;32m    100\u001b[0m             \u001b[0;32mraise\u001b[0m \u001b[0mTypeError\u001b[0m\u001b[0;34m(\u001b[0m\u001b[0;34m\"RangeIndex(...) must be called with integers\"\u001b[0m\u001b[0;34m)\u001b[0m\u001b[0;34m\u001b[0m\u001b[0;34m\u001b[0m\u001b[0m\n\u001b[1;32m    101\u001b[0m \u001b[0;34m\u001b[0m\u001b[0m\n",
      "\u001b[0;31mKeyboardInterrupt\u001b[0m: "
     ]
    }
   ],
   "source": [
    "import sigame as si\n",
    "si.run()"
   ]
  },
  {
   "cell_type": "code",
   "execution_count": null,
   "metadata": {},
   "outputs": [],
   "source": []
  }
 ],
 "metadata": {
  "kernelspec": {
   "display_name": "Python 3",
   "language": "python",
   "name": "python3"
  },
  "language_info": {
   "codemirror_mode": {
    "name": "ipython",
    "version": 3
   },
   "file_extension": ".py",
   "mimetype": "text/x-python",
   "name": "python",
   "nbconvert_exporter": "python",
   "pygments_lexer": "ipython3",
   "version": "3.8.5"
  }
 },
 "nbformat": 4,
 "nbformat_minor": 4
}
