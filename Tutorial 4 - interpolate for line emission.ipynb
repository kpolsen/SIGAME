{
 "cells": [
  {
   "cell_type": "markdown",
   "metadata": {},
   "source": [
    "# Tutorial 4 - interpolate for line emission\n",
    "Step 4 of SIGAME is to interpolate in the Cloudy models to make predictions for the line emission of all simulated sample galaxies. This will overwrite the `cell_data` files in `data/cell_data` with additional info, such as luminosity from each ISM phase considered (ionized, atomic and molecular) as well as other mass-weighted quantities such as mass of each ISM phase, electron density and temperature. \n",
    "\n",
    "**Compared to the previous steps, this step should not be as memory-intensive**."
   ]
  },
  {
   "cell_type": "code",
   "execution_count": 1,
   "metadata": {},
   "outputs": [],
   "source": [
    "%matplotlib inline\n",
    "%load_ext autoreload\n",
    "%autoreload 2"
   ]
  },
  {
   "cell_type": "markdown",
   "metadata": {},
   "source": [
    "### Before importing SIGAME!! \n",
    "... it's important that we edit the parameter.txt file so sigame knows what to do. in parameter.txt, make sure that the bottom part reads:\n",
    "\n",
    "BACKEND TASKS<br>\n",
    "-1 step1_setup_SKIRT<br>\n",
    "-1 step1_read_SKIRT<br>\n",
    "-1 step2_grid_gas<br>\n",
    "-1 step3_setup_Cloudy_grid<br>\n",
    "-1 step3_run_Cloudy<br>\n",
    "-1 step3_combine_Cloudy<br>\n",
    "-1 step3_complete_Cloudy<br>\n",
    "-1 step3_read_Cloudy_grid<br>\n",
    "-1 step3_make_Cloudy_table<br>\n",
    "+1 step4_interpolate<br>\n",
    "+1 step4_derived_results<br>"
   ]
  },
  {
   "cell_type": "markdown",
   "metadata": {},
   "source": [
    "### The final \"derived results\" task, basically calculates mass-weighted quantities for the entire galaxy and stores them in the global results file in the data/results folder. This is useful if you just want to look at global properties."
   ]
  },
  {
   "cell_type": "code",
   "execution_count": null,
   "metadata": {},
   "outputs": [
    {
     "name": "stdout",
     "output_type": "stream",
     "text": [
      "\n",
      "     =======================================================  \n",
      "     \n",
      "     .oOOOo.  ooOoOOo  .oOOOo.     Oo    Oo      oO o.OOoOoo  \n",
      "     o     o     O    .O     o    o  O   O O    o o  O        \n",
      "     O.          o    o          O    o  o  o  O  O  o        \n",
      "      `OOoo.     O    O         oOooOoOo O   Oo   O  ooOO     \n",
      "           `O    o    O   .oOOo o      O O        o  O        \n",
      "            o    O    o.      O O      o o        O  o        \n",
      "     O.    .O    O     O.    oO o      O o        O  O        \n",
      "      `oooO'  ooOOoOo   `OooO'  O.     O O        o ooOooOoO  \n",
      "     \n",
      "     =======================================================  \n",
      "      SImulator of GAlaxy Millimeter/submillimeter Emission\n",
      "---- A code to simulate the far-IR emission lines of the ISM  ----\n",
      "------------- in galaxies from hydrodynamical codes --------------\n",
      "----- for the interpretation and prediction of observations. -----\n",
      "- Contact: Karen Olsen, karenolsen (at) email.arizona.edu (2021) -\n",
      "\n",
      "\n",
      "Reading parameter file: [/home/karen/projects/SIGAME/SIGAME/parameters.txt] ... \n",
      "will look for skirt input/output data in /home/karen/projects/SIGAME/SIGAME/skirt/\n",
      "\n",
      "/home/karen/projects/SIGAME/SIGAME/sigame/temp/\n",
      "\n",
      "will look for code in /home/karen/projects/SIGAME/SIGAME/sigame/\n",
      "will look for sim data in /home/karen/projects/SIGAME/SIGAME/data/\n",
      "will look for cloudy data in /home/karen/projects/SIGAME/SIGAME//cloudy/\n",
      "\n",
      "                 Parameters chosen                \n",
      "+--------------------+----------+---------------+--------------------------------------------------+\n",
      "|     Parameter      |  Value   |  Name in code |                   Explanation                    |\n",
      "+--------------------+----------+---------------+--------------------------------------------------+\n",
      "|   Repr. redshift   |         0|      zred     |         Redshift of simulation snapshot          |\n",
      "|     # galaxies     |         3|      nGal     |      Number of galaxies in redshift sample       |\n",
      "|      Sim name      |     simba|    sim_name   |                 Simulation name                  |\n",
      "|      Sim run       |    _25Mpc|    sim_run    |                  Simulation run                  |\n",
      "|      Grid ext      |          |    grid_ext   |              Cloudy grid extension               |\n",
      "|     Table ext      | _arepoPDF|   table_ext   |          Cloudy look-up table extension          |\n",
      "+--------------------+----------+---------------+--------------------------------------------------+\n",
      "\n",
      "This is what sigame.run() is set up to do (change in parameter file):\n",
      "- Interpolate in cloudy look-up table for each gas cell\n",
      "\n",
      "--------------------------------------------------------------\n",
      "\n",
      "Ready to continue!\n",
      "\n",
      "Filename in global_results._get_file(): \n",
      "/home/karen/projects/SIGAME/SIGAME/data/results/z0_3gals_simba_25Mpc_arepoPDF\n",
      "\n",
      "** This is the main controller running SIGAME for the given galaxy sample **\n",
      "(Number of galaxies in selection: 3 )\n",
      "OBS: Overwrite is OFF, will not overwrite any existing files\n",
      "\n",
      "--- Step 4: Interpolate for line luminosities ---\n",
      "\n",
      "Now for galaxy # 0\n",
      "Filename in global_results._get_file(): \n",
      "/home/karen/projects/SIGAME/SIGAME/data/results/z0_3gals_simba_25Mpc_arepoPDF\n",
      "Line luminosities not registered in GR, will run interpolation\n"
     ]
    }
   ],
   "source": [
    "import sigame as si\n",
    "si.run()"
   ]
  },
  {
   "cell_type": "code",
   "execution_count": null,
   "metadata": {},
   "outputs": [],
   "source": []
  }
 ],
 "metadata": {
  "kernelspec": {
   "display_name": "Python 3",
   "language": "python",
   "name": "python3"
  },
  "language_info": {
   "codemirror_mode": {
    "name": "ipython",
    "version": 3
   },
   "file_extension": ".py",
   "mimetype": "text/x-python",
   "name": "python",
   "nbconvert_exporter": "python",
   "pygments_lexer": "ipython3",
   "version": "3.8.5"
  }
 },
 "nbformat": 4,
 "nbformat_minor": 4
}
