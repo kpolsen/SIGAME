{
 "cells": [
  {
   "cell_type": "markdown",
   "metadata": {},
   "source": [
    "# Tutorial 2 - grid the simulation data\n",
    "The 2nd step of SIGAME is to map all the essential simulation data onto the grid provided by the SKIRT output files. This will overwrite the `cell_data` files in `data/cell_data` with additional info. \n",
    "\n",
    "**As the previous step, this can be pretty memory-intensive**, but you can skip this tutorial by downloading the finalized `cell_data` files at the following Google drive folder (look for the files ending in `cell_data`):\n",
    "\n",
    "https://drive.google.com/drive/folders/1vl4nKDOUJ-T2zvUn5I0Otzy_OqakZOSQ?usp=sharing\n",
    "\n",
    "These files should be moved to the `SIGAME/data/cell_data/` folder where you can safely overwrite the existing files. Due to the size limit of GitHub releases, the full cell_data files are not included in the release itself, and the existing files are only dummies of very small size."
   ]
  },
  {
   "cell_type": "code",
   "execution_count": 1,
   "metadata": {},
   "outputs": [],
   "source": [
    "%matplotlib inline\n",
    "%load_ext autoreload\n",
    "%autoreload 2"
   ]
  },
  {
   "cell_type": "markdown",
   "metadata": {},
   "source": [
    "### Before importing SIGAME!! \n",
    "... it's important that we edit the parameter.txt file so sigame knows what to do. in parameter.txt, make sure that the bottom part reads:\n",
    "\n",
    "BACKEND TASKS<br>\n",
    "-1 step1_setup_SKIRT<br>\n",
    "-1 step1_read_SKIRT<br>\n",
    "+1 step2_grid_gas<br>\n",
    "-1 step3_setup_Cloudy_grid<br>\n",
    "-1 step3_run_Cloudy<br>\n",
    "-1 step3_combine_Cloudy<br>\n",
    "-1 step3_complete_Cloudy<br>\n",
    "-1 step3_read_Cloudy_grid<br>\n",
    "-1 step3_make_Cloudy_table<br>\n",
    "-1 step4_interpolate<br>\n",
    "-1 step4_derived_results<br>"
   ]
  },
  {
   "cell_type": "markdown",
   "metadata": {},
   "source": [
    "### The output from running `si.run()` (which you can try to run here if you think you have enough memory, just remember to switch the overwrite parameter in parameters.txt to \"yes\") should look something like this:\n",
    "\n",
    "\n",
    "```\n",
    "Filename in global_results._get_file(): \n",
    "/home/u17/karenolsen/SIGAME/data/results/z0_3gals_simba_25Mpc_arepoPDF\n",
    "\n",
    "** This is the main controller running SIGAME for the given galaxy sample **\n",
    "(Number of galaxies in selection: 3 )\n",
    "OBS: Overwrite is ON, will overwrite any existing files\n",
    "\n",
    "--- Step 2: Re-grid gas on cell structure ---\n",
    "\n",
    "Now for galaxy # 0\n",
    "* Derive gas density (nH) for new cells for galaxy # 0\n",
    "* Derive and add FUV (and other band) flux for galaxy # 0\n",
    "* Derive and add metallicity for galaxy # 0\n",
    "* Derive and add SFR density for galaxy # 0\n",
    "Running gridding procedure for G0\n",
    "max nH in simgas: 4.23\n",
    "max nH in cell_data: 4.96\n",
    "min nH in cell_data: 0.00\n",
    "Total mass in simgas: 5.12e+10\n",
    "Total mass in cell_data: 5.04e+10\n",
    "done with density for galaxy # 1 (gal_num = 78)\n",
    "done with photometry for galaxy # 0 (gal_num = 51)\n",
    "done with Z for galaxy # 0 (gal_num = 51)\n",
    "/home/u17/karenolsen/SIGAME/sigame/galaxy.py:978: RuntimeWarning: invalid value encountered in double_scalars\n",
    "  Z[i] = np.sum(m*Z_cut*kernel)/dens_i\n",
    "done with Z for galaxy # 0 (gal_num = 51)\n",
    "\n",
    "Now for galaxy # 1\n",
    "* Derive gas density (nH) for new cells for galaxy # 1\n",
    "* Derive and add FUV (and other band) flux for galaxy # 1\n",
    "* Derive and add metallicity for galaxy # 1\n",
    "* Derive and add SFR density for galaxy # 1\n",
    "Running gridding procedure for G1\n",
    "max nH in simgas: 6.72\n",
    "max nH in cell_data: 6.82\n",
    "min nH in cell_data: 0.00\n",
    "Total mass in simgas: 2.20e+10\n",
    "Total mass in cell_data: 2.15e+10\n",
    "done with density for galaxy # 1 (gal_num = 78)\n",
    "done with photometry for galaxy # 1 (gal_num = 78)\n",
    "done with Z for galaxy # 1 (gal_num = 78)\n",
    "/home/u17/karenolsen/SIGAME/sigame/galaxy.py:978: RuntimeWarning: invalid value encountered in double_scalars\n",
    "  Z[i] = np.sum(m*Z_cut*kernel)/dens_i\n",
    "done with Z for galaxy # 1 (gal_num = 78)\n",
    "\n",
    "Now for galaxy # 2\n",
    "* Derive gas density (nH) for new cells for galaxy # 2\n",
    "* Derive and add FUV (and other band) flux for galaxy # 2\n",
    "* Derive and add metallicity for galaxy # 2\n",
    "* Derive and add SFR density for galaxy # 2\n",
    "Running gridding procedure for G2\n",
    "max nH in simgas: 6.99\n",
    "max nH in cell_data: 4.37\n",
    "min nH in cell_data: 0.00\n",
    "Total mass in simgas: 1.76e+10\n",
    "Total mass in cell_data: 1.73e+10\n",
    "done with density for galaxy # 1 (gal_num = 78)\n",
    "done with photometry for galaxy # 2 (gal_num = 15)\n",
    "done with Z for galaxy # 2 (gal_num = 15)\n",
    "/home/u17/karenolsen/SIGAME/sigame/galaxy.py:978: RuntimeWarning: invalid value encountered in double_scalars\n",
    "  Z[i] = np.sum(m*Z_cut*kernel)/dens_i\n",
    "done with Z for galaxy # 2 (gal_num = 15)\n",
    "\n",
    "```\n",
    "\n",
    "... after that, the \".cell_data\" files in data/cell_data/ should have been re-written."
   ]
  },
  {
   "cell_type": "code",
   "execution_count": 2,
   "metadata": {},
   "outputs": [],
   "source": [
    "# Try running SIGAME by un-commenting the following lines\n",
    "# import sigame as si\n",
    "# si.run()"
   ]
  },
  {
   "cell_type": "markdown",
   "metadata": {},
   "source": [
    "### &#9654; Congratulations ! You have successfully completed the re-gridding step! &#9664;"
   ]
  },
  {
   "cell_type": "code",
   "execution_count": null,
   "metadata": {},
   "outputs": [],
   "source": []
  }
 ],
 "metadata": {
  "kernelspec": {
   "display_name": "Python 3",
   "language": "python",
   "name": "python3"
  },
  "language_info": {
   "codemirror_mode": {
    "name": "ipython",
    "version": 3
   },
   "file_extension": ".py",
   "mimetype": "text/x-python",
   "name": "python",
   "nbconvert_exporter": "python",
   "pygments_lexer": "ipython3",
   "version": "3.8.5"
  }
 },
 "nbformat": 4,
 "nbformat_minor": 4
}
