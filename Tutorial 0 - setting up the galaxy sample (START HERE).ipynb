{
 "cells": [
  {
   "cell_type": "markdown",
   "metadata": {},
   "source": [
    "# Tutorial 0 - setting up the galaxy sample\n",
    "This version of SIGAME comes with a set of 3 test galaxies from the Simba cosmological 25Mpc/h volume. Here we try to load SIGAME and generate the **Globale Results file** that will contain all future results. We also talk about how to set up your own galaxy sample at the end.\n",
    "\n",
    "## Importing SIGAME\n",
    "This first time you import sigame, it might crash because of missing modules that you will have to install. At the end, you should get the following print out:"
   ]
  },
  {
   "cell_type": "code",
   "execution_count": 1,
   "metadata": {},
   "outputs": [
    {
     "name": "stdout",
     "output_type": "stream",
     "text": [
      "\n",
      "     =======================================================  \n",
      "     \n",
      "     .oOOOo.  ooOoOOo  .oOOOo.     Oo    Oo      oO o.OOoOoo  \n",
      "     o     o     O    .O     o    o  O   O O    o o  O        \n",
      "     O.          o    o          O    o  o  o  O  O  o        \n",
      "      `OOoo.     O    O         oOooOoOo O   Oo   O  ooOO     \n",
      "           `O    o    O   .oOOo o      O O        o  O        \n",
      "            o    O    o.      O O      o o        O  o        \n",
      "     O.    .O    O     O.    oO o      O o        O  O        \n",
      "      `oooO'  ooOOoOo   `OooO'  O.     O O        o ooOooOoO  \n",
      "     \n",
      "     =======================================================  \n",
      "      SImulator of GAlaxy Millimeter/submillimeter Emission\n",
      "---- A code to simulate the far-IR emission lines of the ISM  ----\n",
      "------------- in galaxies from hydrodynamical codes --------------\n",
      "----- for the interpretation and prediction of observations. -----\n",
      "- Contact: Karen Olsen, karenolsen (at) email.arizona.edu (2021) -\n",
      "\n",
      "\n",
      "Reading parameter file: [/home/karen/projects/SIGAME/SIGAME/parameters.txt] ... \n",
      "will look for skirt input/output data in /home/karen/projects/SIGAME/SIGAME/skirt/\n",
      "\n",
      "/home/karen/projects/SIGAME/SIGAME/sigame/temp/\n",
      "\n",
      "will look for code in /home/karen/projects/SIGAME/SIGAME/sigame/\n",
      "will look for sim data in /home/karen/projects/SIGAME/SIGAME/data/\n",
      "will look for cloudy data in /home/karen/projects/SIGAME/SIGAME//cloudy/\n",
      "\n",
      "                 Parameters chosen                \n",
      "+--------------------+----------+---------------+--------------------------------------------------+\n",
      "|     Parameter      |  Value   |  Name in code |                   Explanation                    |\n",
      "+--------------------+----------+---------------+--------------------------------------------------+\n",
      "|   Repr. redshift   |         0|      zred     |         Redshift of simulation snapshot          |\n",
      "|     # galaxies     |         3|      nGal     |      Number of galaxies in redshift sample       |\n",
      "|      Sim name      |     simba|    sim_name   |                 Simulation name                  |\n",
      "|      Sim run       |    _25Mpc|    sim_run    |                  Simulation run                  |\n",
      "|      Grid ext      |          |    grid_ext   |              Cloudy grid extension               |\n",
      "|     Table ext      | _arepoPDF|   table_ext   |          Cloudy look-up table extension          |\n",
      "+--------------------+----------+---------------+--------------------------------------------------+\n",
      "\n",
      "This is what sigame.run() is set up to do (change in parameter file):\n",
      "- Read SKIRT output\n",
      "\n",
      "--------------------------------------------------------------\n",
      "\n",
      "Ready to continue!\n",
      "\n"
     ]
    }
   ],
   "source": [
    "%matplotlib inline\n",
    "%load_ext autoreload\n",
    "%autoreload 2\n",
    "import sigame as si"
   ]
  },
  {
   "cell_type": "markdown",
   "metadata": {},
   "source": [
    "### Galaxy sample\n",
    "For SIGAME to run, it needs specific information about each galaxy and a file that describes the galaxy sample to be used. One way to check that a sample is ready to use, is by using the print_results() command:"
   ]
  },
  {
   "cell_type": "code",
   "execution_count": 2,
   "metadata": {},
   "outputs": [
    {
     "name": "stdout",
     "output_type": "stream",
     "text": [
      "Filename in global_results._get_file(): \n",
      "/home/karen/projects/SIGAME/SIGAME/data/results/z0_3gals_simba_25Mpc_arepoPDF\n",
      "\n",
      "could not find file at /home/karen/projects/SIGAME/SIGAME/data/results/z0_3gals_simba_25Mpc_arepoPDF \n",
      "... creating Global Results file!\n",
      "Final number of galaxies:\n",
      "3\n",
      "Check min and max of SFR (<100 Myr):\n",
      "1.4206970017232166 5.856087696242063\n",
      "get attributes: lum_dist\n",
      "get attributes: Zmw\n",
      "Filename in global results __create_file: \n",
      "/home/karen/projects/SIGAME/SIGAME/data/results/z0_3gals_simba_25Mpc_arepoPDF\n",
      "\n",
      " BASIC GALAXY INFO\n",
      "+------------------------------------------------------------------------------------------------+\n",
      "|      Name     |       z       | Mstar (caesar)|      SFR      |       R       |    Lum dist   |\n",
      "|               |               |  [10^10 Msun] |   [Msun/yr]   |     [kpc]     |     [Mpc]     |\n",
      "+------------------------------------------------------------------------------------------------+\n",
      "|       G0      |           0.00|       2.27e+00|           5.86|         101.93|           6.88|\n",
      "|       G1      |           0.00|       3.75e+00|           5.60|          47.11|          15.97|\n",
      "|       G2      |           0.00|       1.33e+01|           1.42|         169.82|           8.90|\n",
      "+------------------------------------------------------------------------------------------------+\n",
      "\n",
      " ISM PROPERTIES\n",
      "cannot print ISM properties yet\n",
      "\n",
      " BROAD BAND LUMINOSITIES FROM SKIRT\n",
      "cannot print broad band luminosities yet\n",
      "\n",
      " LINE EMISSION\n",
      "cannot print line luminosities yet\n"
     ]
    }
   ],
   "source": [
    "si.print_results()"
   ]
  },
  {
   "cell_type": "markdown",
   "metadata": {},
   "source": [
    "**OBS::** Depending on your galaxy sample, here you might receive a msg saying to **\"Stop and update parameter.txt to reflect new nGal\"**. This is because SIGAME has recalculated the SFR of each galaxy by only including stars with ages < 100 Myr, and found that some galaxies have SFR = 0. These galaxies have been taken out of the sample and parameter.txt must now be edited to that nGal equals the new samples size. \n",
    "\n",
    "If all went well, the command should have generated a **\"Global Results\"** file that will contain all integrated results from SIGAME. You can look for this file in the data/results/ folder. The command also prints some basic galaxy info that is already available, like redshift, stellar mass, SFR, galaxy radius and luminosity distance.\n",
    "\n",
    "As you can see, there's a lot of things that can't be printed yet, because we haven't calculated them yet.\n",
    "\n",
    "### &#9654; Congratulations ! You are successfully set up to use SIGAME&#9664;"
   ]
  },
  {
   "cell_type": "markdown",
   "metadata": {},
   "source": [
    "---\n",
    "## Notes on how to generate your own galaxy sample\n",
    "With any galaxy sample, a **Galaxy Selection** file must be created as a pandas dataframe with just one column named 'gal_num' which is the Galaxy ID number in the simulation. The dataframe can contain more columns, but only gal_num will be used to locate the raw galaxy data file.\n",
    "\n",
    "The dataframe must be saved with pickle and have a filename like this:\n",
    "\n",
    "### \" z\\<redshift\\>_galsample_\\<nGal\\>_\\<sim_name\\>_\\<sim_run\\> \"\n",
    "    \n",
    "where \\<redshift\\> is the redshift for the sample (same as z1 in parameters.txt), \\<nGal\\> is the number of galaxies in the sample (same as nGal in parameters.txt), \\<sim_name\\> is the name of the simulation (same as sim_name in parameters.txt) and <sim_name> is the name of the specific simulation run used (same as sim_run in parameters.txt and optional). In this case:\n",
    "\n",
    "### z0_galsample_3_simba_25Mpc\n",
    "\n",
    "---\n",
    "\n",
    "The raw galaxy data files must be saved as pandas dataframes in data/particle_data/sim_data/ with names like this:\n",
    "\n",
    "### \" z\\<redshift\\>_\\<gal_num\\>_\\<sim_name\\>_\\<sim_run\\> \"\n",
    "\n",
    "where \\<redshift\\> is the redshift for the specific galaxy (now with 2 decimal precision), \\<gal_num\\> is the Galaxy ID number in the simulation, \\<sim_name\\> is the name of the simulation (same as sim_name in parameters.txt) and <sim_name> is the name of the specific simulation run used (same as sim_run in parameters.txt and optional). \n",
    "\n",
    "The ending of the filename has to reflect whether the data is gas or stars by ending the filename in \".rawsimgas\" or \".rawsimstar\". In this case, the gas and star particle files are called for instance:\n",
    "\n",
    "### z0.00_15_simba_25Mpc.rawsimgas and z0.00_15_simba_25Mpc.rawsimstar\n",
    "\n",
    "Each gas particle file must contain the following columns:<br>\n",
    "'x', 'y', 'z', 'vx', 'vy', 'vz', 'm', 'nH', 'h', 'SFR', 'Z', 'f_H2', 'm_dust', 'Z_dust', 'a_He', 'a_C', 'a_N', 'a_O', 'a_Ne', 'a_Mg', 'a_Si', 'a_S', 'a_Ca','a_Fe',  'DTM'<br>\n",
    "(where everything after 'Z' is actually optional)\n",
    "       \n",
    "Each star particle file must contain the following columns:<br>\n",
    "'x', 'y', 'z', 'vx', 'vy', 'vz', 'm', 'age', 'Z'"
   ]
  },
  {
   "cell_type": "code",
   "execution_count": null,
   "metadata": {},
   "outputs": [],
   "source": [
    "\n"
   ]
  }
 ],
 "metadata": {
  "kernelspec": {
   "display_name": "Python 3",
   "language": "python",
   "name": "python3"
  },
  "language_info": {
   "codemirror_mode": {
    "name": "ipython",
    "version": 3
   },
   "file_extension": ".py",
   "mimetype": "text/x-python",
   "name": "python",
   "nbconvert_exporter": "python",
   "pygments_lexer": "ipython3",
   "version": "3.8.5"
  }
 },
 "nbformat": 4,
 "nbformat_minor": 4
}
